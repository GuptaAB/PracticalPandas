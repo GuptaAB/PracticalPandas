{
 "cells": [
  {
   "cell_type": "markdown",
   "metadata": {},
   "source": [
    "![](https://i.imgur.com/A3Cxp7P.png)\n",
    "\n",
    "----\n",
    "\n",
    "- [Some analysis of Goals...](#Some-analysis-of-Goals...)\n",
    "    - [Goals scored vs conceded per team](#Goals-scored-vs-conceded-per-team)\n",
    "    - [Goal period](#Goal-period)\n",
    "    - [Shirt number matters...](#Shirt-number-matters...)\n",
    "    \n",
    "    \n",
    "- [Some team analysis...](#Some-team-analysis...)\n",
    "    - [What was the best stage native/foreign coaches were able to take their team to?](#What-was-the-best-stage-native/foreign-coaches-were-able-to-take-their-team-to?)\n",
    "    \n",
    "    \n",
    "- [Some analysis on players...](#Some-analysis-on-players...)\n",
    "    - [Goalkeepers are biggg!!!](#Goalkeepers-are-biggg!!!)\n",
    "    - [Some age analysis](#Some-age-analysis)\n",
    "    - [None of the teams with average age above 28 could make it past Quarterfinals...](#None-of-the-teams-with-average-age-above-28-could-make-it-past-Quarterfinals...)\n",
    "    \n",
    "    \n",
    "- [Some match attendance analysis...](#Some-match-attendance-analysis...)\n",
    "    - [Why so low attendance in quarters? Maybe bcoz of no Portugal, Spain and Argentina!](#Why-so-low-attendance-in-quarters?-Maybe-bcoz-of-no-Portugal,-Spain-and-Argentina!)\n",
    "    \n",
    "    \n",
    "- [Some analysis on team tactics...](#Some-analysis-on-team-tactics...)\n",
    "    - [4-2-3-1 seems to be everyone's favorite. Does it guarantee a win?](#4-2-3-1-seems-to-be-everyone's-favorite.-Does-it-guarantee-a-win?)\n",
    "    - [How does 4-2-3-1 tactic fares at big stage?](#How-does-4-2-3-1-tactic-fares-at-big-stage?)\n",
    "    \n",
    "    \n",
    "- [Some analysis on ball possession...](#Some-analysis-on-ball-possession...)\n",
    "    - [In 4/6 matches, France had lesser ball possession than the opponent..](#In-4/6-matches,-France-had-lesser-ball-possession-than-the-opponent..)\n",
    "    \n",
    "----"
   ]
  },
  {
   "cell_type": "code",
   "execution_count": null,
   "metadata": {},
   "outputs": [],
   "source": [
    "import pandas as pd\n",
    "%matplotlib inline"
   ]
  },
  {
   "cell_type": "code",
   "execution_count": null,
   "metadata": {},
   "outputs": [],
   "source": [
    "teams_df = pd.read_csv(\"data/teams.csv\", index_col=\"IdTeam\")"
   ]
  },
  {
   "cell_type": "code",
   "execution_count": null,
   "metadata": {},
   "outputs": [],
   "source": [
    "teams_df.head()"
   ]
  },
  {
   "cell_type": "code",
   "execution_count": null,
   "metadata": {},
   "outputs": [],
   "source": [
    "players_df = pd.read_csv(\"data/players.csv\", parse_dates=['BirthDate'], index_col=\"IdPlayer\")"
   ]
  },
  {
   "cell_type": "code",
   "execution_count": null,
   "metadata": {},
   "outputs": [],
   "source": [
    "players_df.head()"
   ]
  },
  {
   "cell_type": "code",
   "execution_count": null,
   "metadata": {},
   "outputs": [],
   "source": [
    "matches_df = pd.read_csv(\"data/matches.csv\", parse_dates=['Date'], index_col=\"IdMatch\")"
   ]
  },
  {
   "cell_type": "code",
   "execution_count": null,
   "metadata": {},
   "outputs": [],
   "source": [
    "matches_df.head()"
   ]
  },
  {
   "cell_type": "code",
   "execution_count": null,
   "metadata": {},
   "outputs": [],
   "source": [
    "goals_df = pd.read_csv(\"data/goals.csv\")"
   ]
  },
  {
   "cell_type": "code",
   "execution_count": null,
   "metadata": {},
   "outputs": [],
   "source": [
    "goals_df.head()"
   ]
  },
  {
   "cell_type": "markdown",
   "metadata": {},
   "source": [
    "## Some analysis of Goals...\n",
    "![](https://i.imgflip.com/219r12.jpg)"
   ]
  },
  {
   "cell_type": "markdown",
   "metadata": {},
   "source": [
    "### Goals scored vs conceded per team"
   ]
  },
  {
   "cell_type": "code",
   "execution_count": null,
   "metadata": {},
   "outputs": [],
   "source": [
    "goals_scored_per_team = goals_df['TeamName'].value_counts()"
   ]
  },
  {
   "cell_type": "code",
   "execution_count": null,
   "metadata": {},
   "outputs": [],
   "source": [
    "goals_conceded_per_team = goals_df['OppositionTeamName'].value_counts()"
   ]
  },
  {
   "cell_type": "code",
   "execution_count": null,
   "metadata": {},
   "outputs": [],
   "source": [
    "goals_scored_per_team.get('Croatia')"
   ]
  },
  {
   "cell_type": "code",
   "execution_count": null,
   "metadata": {},
   "outputs": [],
   "source": [
    "teams_df['GoalsScored'] = teams_df['TeamName'].apply(goals_scored_per_team.get)"
   ]
  },
  {
   "cell_type": "code",
   "execution_count": null,
   "metadata": {},
   "outputs": [],
   "source": [
    "teams_df['GoalsConceded'] = teams_df['TeamName'].apply(goals_conceded_per_team.get)"
   ]
  },
  {
   "cell_type": "code",
   "execution_count": null,
   "metadata": {
    "scrolled": false
   },
   "outputs": [],
   "source": [
    "# goals scored vs conceded\n",
    "teams_df.plot.bar(x='TeamName', y=['GoalsScored', 'GoalsConceded'], figsize=(15,6))"
   ]
  },
  {
   "cell_type": "code",
   "execution_count": null,
   "metadata": {
    "scrolled": false
   },
   "outputs": [],
   "source": [
    "# Which teams conceded more goals than they scored?\n",
    "teams_df.query('GoalsScored < GoalsConceded')"
   ]
  },
  {
   "cell_type": "markdown",
   "metadata": {},
   "source": [
    "### Goal period"
   ]
  },
  {
   "cell_type": "code",
   "execution_count": null,
   "metadata": {},
   "outputs": [],
   "source": [
    "def set_goal_period(minute):\n",
    "    total = eval(minute.replace('\\'', ''))\n",
    "    if \"45'+\" in minute or total<=45:\n",
    "        return \"FirstHalf\"\n",
    "    elif  \"90'+\" in minute or 45<total<=90:\n",
    "        return \"SecondHalf\"\n",
    "    elif 90<total<=120:\n",
    "        return \"ExtraTime\"\n",
    "    else:\n",
    "        return \"PenaltyShootout\""
   ]
  },
  {
   "cell_type": "code",
   "execution_count": null,
   "metadata": {},
   "outputs": [],
   "source": [
    "goals_df['Period'] = goals_df['Minute'].apply(set_goal_period)"
   ]
  },
  {
   "cell_type": "code",
   "execution_count": null,
   "metadata": {
    "scrolled": true
   },
   "outputs": [],
   "source": [
    "goals_df['Period'].value_counts().plot.pie(autopct='%1.1f%%')"
   ]
  },
  {
   "cell_type": "markdown",
   "metadata": {},
   "source": [
    "### Shirt number matters..."
   ]
  },
  {
   "cell_type": "code",
   "execution_count": null,
   "metadata": {},
   "outputs": [],
   "source": [
    "# 10 vs 7\n",
    "goals_df['PlayerShirtNumber'].value_counts()"
   ]
  },
  {
   "cell_type": "code",
   "execution_count": null,
   "metadata": {},
   "outputs": [],
   "source": [
    "# players with shirt no. 10 who scored goals \n",
    "goals_df.query(\"PlayerShirtNumber == 10\")['PlayerName'].value_counts()"
   ]
  },
  {
   "cell_type": "markdown",
   "metadata": {},
   "source": [
    "## Some team analysis...\n",
    "![](https://michaelsloredotcom.files.wordpress.com/2017/12/545399686-france-team-members-celebrate-after-beating-germany-2-0-crop-promo-xlarge2-e1512248877901.jpg?w=845&h=450&crop=1)"
   ]
  },
  {
   "cell_type": "code",
   "execution_count": null,
   "metadata": {},
   "outputs": [],
   "source": [
    "# Best stage teams made?\n",
    "best_stage_map = {}\n",
    "for i in range(len(matches_df.index)):\n",
    "    match = matches_df.iloc[i]\n",
    "    best_stage_map[match['HomeTeamName']] = match['Stage']\n",
    "    best_stage_map[match['AwayTeamName']] = match['Stage']"
   ]
  },
  {
   "cell_type": "code",
   "execution_count": null,
   "metadata": {},
   "outputs": [],
   "source": [
    "best_stage_map"
   ]
  },
  {
   "cell_type": "code",
   "execution_count": null,
   "metadata": {},
   "outputs": [],
   "source": [
    "teams_df['BestStage'] = teams_df['TeamName'].apply(best_stage_map.get)"
   ]
  },
  {
   "cell_type": "markdown",
   "metadata": {},
   "source": [
    "### What was the best stage native/foreign coaches were able to take their team to?"
   ]
  },
  {
   "cell_type": "code",
   "execution_count": null,
   "metadata": {},
   "outputs": [],
   "source": [
    "teams_df.query('TeamName != CoachCountry')['BestStage'].value_counts().plot.pie(autopct='%1.1f%%')"
   ]
  },
  {
   "cell_type": "code",
   "execution_count": null,
   "metadata": {},
   "outputs": [],
   "source": [
    "teams_df.query('TeamName == CoachCountry')['BestStage'].value_counts().plot.pie(autopct='%1.1f%%')"
   ]
  },
  {
   "cell_type": "markdown",
   "metadata": {},
   "source": [
    "## Some analysis on players...\n",
    "![](http://n.sinaimg.cn/sports/transform/224/w615h409/20180707/hZYi-hexfcvm1472143.jpg)"
   ]
  },
  {
   "cell_type": "code",
   "execution_count": null,
   "metadata": {},
   "outputs": [],
   "source": [
    "players_df['Height'].plot.hist()"
   ]
  },
  {
   "cell_type": "code",
   "execution_count": null,
   "metadata": {},
   "outputs": [],
   "source": [
    "# Who is tallest player?\n",
    "players_df.loc[players_df['Height'].idxmax()]"
   ]
  },
  {
   "cell_type": "code",
   "execution_count": null,
   "metadata": {},
   "outputs": [],
   "source": [
    "# who is the tiniest?\n",
    "players_df.loc[players_df['Height'].idxmin()]"
   ]
  },
  {
   "cell_type": "code",
   "execution_count": null,
   "metadata": {},
   "outputs": [],
   "source": [
    "# Player position breakdown\n",
    "players_df.Position.value_counts()"
   ]
  },
  {
   "cell_type": "code",
   "execution_count": null,
   "metadata": {},
   "outputs": [],
   "source": [
    "def get_position_color(position):\n",
    "    color_map = {\n",
    "        \"Defender\": 'y',\n",
    "        \"Midfielder\": 'b',\n",
    "        \"Forward\": 'g',\n",
    "        \"Goalkeeper\": 'r'\n",
    "    }\n",
    "    return color_map[position]"
   ]
  },
  {
   "cell_type": "code",
   "execution_count": null,
   "metadata": {},
   "outputs": [],
   "source": [
    "color_map = players_df['Position'].apply(get_position_color)"
   ]
  },
  {
   "cell_type": "code",
   "execution_count": null,
   "metadata": {},
   "outputs": [],
   "source": [
    "players_df.plot.scatter(x='Height', y='Weight', c=color_map)"
   ]
  },
  {
   "cell_type": "code",
   "execution_count": null,
   "metadata": {
    "scrolled": true
   },
   "outputs": [],
   "source": [
    "players_df.groupby('Position')[['Height', 'Weight']].mean()"
   ]
  },
  {
   "cell_type": "markdown",
   "metadata": {},
   "source": [
    "### Goalkeepers are biggg!!!\n",
    "![](https://i.imgur.com/v81dlTt.jpg)"
   ]
  },
  {
   "cell_type": "markdown",
   "metadata": {},
   "source": [
    "### Some age analysis\n",
    "\n",
    "![](https://t.resfu.com/media/img_news/montage-of-essam-el-hadary-and-kylian-mbappe--besoccer.png?size=776x&q=60)"
   ]
  },
  {
   "cell_type": "code",
   "execution_count": null,
   "metadata": {},
   "outputs": [],
   "source": [
    "from datetime import datetime"
   ]
  },
  {
   "cell_type": "code",
   "execution_count": null,
   "metadata": {},
   "outputs": [],
   "source": [
    "now = datetime.now()"
   ]
  },
  {
   "cell_type": "code",
   "execution_count": null,
   "metadata": {},
   "outputs": [],
   "source": [
    "players_df['Age'] = (now - players_df['BirthDate']).astype('<m8[Y]')"
   ]
  },
  {
   "cell_type": "code",
   "execution_count": null,
   "metadata": {},
   "outputs": [],
   "source": [
    "# Who are the oldest players?\n",
    "players_df.sort_values('Age', ascending=False).head()"
   ]
  },
  {
   "cell_type": "code",
   "execution_count": null,
   "metadata": {
    "scrolled": true
   },
   "outputs": [],
   "source": [
    "# Who are the youngest players?\n",
    "players_df.sort_values('Age').head()"
   ]
  },
  {
   "cell_type": "code",
   "execution_count": null,
   "metadata": {},
   "outputs": [],
   "source": [
    "avg_country_ages = players_df.groupby('TeamName')['Age'].mean().sort_values()"
   ]
  },
  {
   "cell_type": "code",
   "execution_count": null,
   "metadata": {},
   "outputs": [],
   "source": [
    "teams_df[\"AverageAge\"] = teams_df['TeamName'].apply(avg_country_ages.get)"
   ]
  },
  {
   "cell_type": "markdown",
   "metadata": {},
   "source": [
    "### None of the teams with average age above 28 could make it past Quarterfinals... "
   ]
  },
  {
   "cell_type": "code",
   "execution_count": null,
   "metadata": {
    "scrolled": false
   },
   "outputs": [],
   "source": [
    "teams_df.sort_values('AverageAge')[['TeamName', 'AverageAge', 'BestStage']]"
   ]
  },
  {
   "cell_type": "markdown",
   "metadata": {},
   "source": [
    "## Some match attendance analysis...\n",
    "![](https://i.imgur.com/MyTtkVy.jpg)"
   ]
  },
  {
   "cell_type": "code",
   "execution_count": null,
   "metadata": {
    "scrolled": false
   },
   "outputs": [],
   "source": [
    "# Attendance in France matches\n",
    "matches_df.query(\"HomeTeamName == 'France' or AwayTeamName == 'France'\").plot.bar(x=\"Stage\", y=\"Attendance\", figsize=(15,7))"
   ]
  },
  {
   "cell_type": "code",
   "execution_count": null,
   "metadata": {},
   "outputs": [],
   "source": [
    "def get_avg_team_attendance(team_name):\n",
    "    return matches_df.query(\"HomeTeamName == '{0}' or AwayTeamName == '{0}'\".format(team_name))[\"Attendance\"].mean()"
   ]
  },
  {
   "cell_type": "code",
   "execution_count": null,
   "metadata": {},
   "outputs": [],
   "source": [
    "teams_df['AvgAttendance'] = teams_df['TeamName'].apply(get_avg_team_attendance)"
   ]
  },
  {
   "cell_type": "code",
   "execution_count": null,
   "metadata": {},
   "outputs": [],
   "source": [
    "teams_df[['TeamName', 'AvgAttendance', 'BestStage']].sort_values('AvgAttendance', ascending=False)"
   ]
  },
  {
   "cell_type": "code",
   "execution_count": null,
   "metadata": {
    "scrolled": true
   },
   "outputs": [],
   "source": [
    "# Stage wise average attendance\n",
    "matches_df.groupby(\"Stage\")['Attendance'].mean().sort_values(ascending=False)"
   ]
  },
  {
   "cell_type": "code",
   "execution_count": null,
   "metadata": {},
   "outputs": [],
   "source": [
    "matches_df.groupby(\"Stage\")['Attendance'].mean().sort_values(ascending=False).plot.bar()"
   ]
  },
  {
   "cell_type": "markdown",
   "metadata": {},
   "source": [
    "### Why so low attendance in quarters? Maybe bcoz of no Portugal, Spain and Argentina!"
   ]
  },
  {
   "cell_type": "markdown",
   "metadata": {},
   "source": [
    "## Some analysis on team tactics...\n",
    "![](https://theresonlyoneball.files.wordpress.com/2018/01/tactics.png?w=648)"
   ]
  },
  {
   "cell_type": "code",
   "execution_count": null,
   "metadata": {},
   "outputs": [],
   "source": [
    "matches_df[\"HomeTeamTactics\"].value_counts()"
   ]
  },
  {
   "cell_type": "markdown",
   "metadata": {},
   "source": [
    "### 4-2-3-1 seems to be everyone's favorite. Does it guarantee a win?"
   ]
  },
  {
   "cell_type": "code",
   "execution_count": null,
   "metadata": {},
   "outputs": [],
   "source": [
    "def set_winning_team_tactics(match):\n",
    "    if match[\"Winner\"] == match[\"HomeTeamName\"]:\n",
    "        return match[\"HomeTeamTactics\"]\n",
    "    elif match[\"Winner\"] == match[\"AwayTeamName\"]:\n",
    "        return match[\"AwayTeamTactics\"]\n",
    "    else:\n",
    "        return None"
   ]
  },
  {
   "cell_type": "code",
   "execution_count": null,
   "metadata": {},
   "outputs": [],
   "source": [
    "matches_df[\"WinningTeamTactics\"] = matches_df.apply(set_winning_team_tactics, axis=1)"
   ]
  },
  {
   "cell_type": "code",
   "execution_count": null,
   "metadata": {},
   "outputs": [],
   "source": [
    "matches_df[\"WinningTeamTactics\"].value_counts().plot.pie(autopct='%1.1f%%')"
   ]
  },
  {
   "cell_type": "markdown",
   "metadata": {},
   "source": [
    "### 4-2-3-1 is used by the winning team maximum number of times...what about losing teams' tactics?"
   ]
  },
  {
   "cell_type": "code",
   "execution_count": null,
   "metadata": {},
   "outputs": [],
   "source": [
    "def set_losing_team_tactics(match):\n",
    "    if match[\"Winner\"] == match[\"HomeTeamName\"]:\n",
    "        return match[\"AwayTeamTactics\"]\n",
    "    elif match[\"Winner\"] == match[\"AwayTeamName\"]:\n",
    "        return match[\"HomeTeamTactics\"]\n",
    "    else:\n",
    "        return None"
   ]
  },
  {
   "cell_type": "code",
   "execution_count": null,
   "metadata": {},
   "outputs": [],
   "source": [
    "matches_df[\"LosingTeamTactics\"] = matches_df.apply(set_losing_team_tactics, axis=1)"
   ]
  },
  {
   "cell_type": "code",
   "execution_count": null,
   "metadata": {
    "scrolled": false
   },
   "outputs": [],
   "source": [
    "matches_df[\"LosingTeamTactics\"].value_counts().plot.pie(autopct='%1.1f%%')"
   ]
  },
  {
   "cell_type": "markdown",
   "metadata": {},
   "source": [
    "### How does 4-2-3-1 tactic fares at big stage?"
   ]
  },
  {
   "cell_type": "code",
   "execution_count": null,
   "metadata": {
    "scrolled": false
   },
   "outputs": [],
   "source": [
    "matches_df.query(\"WinningTeamTactics == '4-2-3-1' and Stage != 'First stage'\")"
   ]
  },
  {
   "cell_type": "markdown",
   "metadata": {},
   "source": [
    "![](https://img.memecdn.com/leaked-portugal-world-cup-tactics_o_3411817.jpg)"
   ]
  },
  {
   "cell_type": "markdown",
   "metadata": {},
   "source": [
    "## Some analysis on ball possession...\n",
    "\n",
    "![](https://sportzwiki.com/wp-content/uploads/2018/03/sprinkle.jpg)"
   ]
  },
  {
   "cell_type": "code",
   "execution_count": null,
   "metadata": {},
   "outputs": [],
   "source": [
    "def set_winning_team_ball_possession(match):\n",
    "    if match[\"Winner\"] == match[\"HomeTeamName\"]:\n",
    "        return match[\"BallPossessionHome\"]\n",
    "    elif match[\"Winner\"] == match[\"AwayTeamName\"]:\n",
    "        return match[\"BallPossessionAway\"]\n",
    "    else:\n",
    "        return None\n",
    "    \n",
    "def set_losing_team_ball_possession(match):\n",
    "    if match[\"Winner\"] == match[\"HomeTeamName\"]:\n",
    "        return match[\"BallPossessionAway\"]\n",
    "    elif match[\"Winner\"] == match[\"AwayTeamName\"]:\n",
    "        return match[\"BallPossessionHome\"]\n",
    "    else:\n",
    "        return None"
   ]
  },
  {
   "cell_type": "code",
   "execution_count": null,
   "metadata": {},
   "outputs": [],
   "source": [
    "matches_df[\"BallPossessionWinner\"] = matches_df.apply(set_winning_team_ball_possession, axis=1)\n",
    "matches_df[\"BallPossessionLoser\"] = matches_df.apply(set_losing_team_ball_possession, axis=1)"
   ]
  },
  {
   "cell_type": "code",
   "execution_count": null,
   "metadata": {
    "scrolled": true
   },
   "outputs": [],
   "source": [
    "matches_df.query(\"BallPossessionWinner < BallPossessionLoser\").describe(include='object')"
   ]
  },
  {
   "cell_type": "markdown",
   "metadata": {},
   "source": [
    "### In 4/6 matches, France had lesser ball possession than the opponent.."
   ]
  },
  {
   "cell_type": "code",
   "execution_count": null,
   "metadata": {},
   "outputs": [],
   "source": [
    "def get_avg_team_ball_possession(team_name):\n",
    "    home_possessions = matches_df.query(\"HomeTeamName == '{0}'\".format(team_name))[\"BallPossessionHome\"]\n",
    "    away_possessions = matches_df.query(\"AwayTeamName == '{0}'\".format(team_name))[\"BallPossessionAway\"]\n",
    "    return (sum(home_possessions) + sum(away_possessions))/ (len(home_possessions) + len(away_possessions))"
   ]
  },
  {
   "cell_type": "code",
   "execution_count": null,
   "metadata": {},
   "outputs": [],
   "source": [
    "teams_df[\"AverageBallPossession\"] = teams_df[\"TeamName\"].apply(get_avg_team_ball_possession)"
   ]
  },
  {
   "cell_type": "code",
   "execution_count": null,
   "metadata": {
    "scrolled": true
   },
   "outputs": [],
   "source": [
    "teams_df[[\"TeamName\", \"AverageBallPossession\", \"BestStage\"]].sort_values(by=\"AverageBallPossession\", ascending=False)"
   ]
  },
  {
   "cell_type": "markdown",
   "metadata": {},
   "source": [
    "![](http://ift.tt/UeVgbp)"
   ]
  }
 ],
 "metadata": {
  "kernelspec": {
   "display_name": "Python 3",
   "language": "python",
   "name": "python3"
  },
  "language_info": {
   "codemirror_mode": {
    "name": "ipython",
    "version": 3
   },
   "file_extension": ".py",
   "mimetype": "text/x-python",
   "name": "python",
   "nbconvert_exporter": "python",
   "pygments_lexer": "ipython3",
   "version": "3.6.5"
  }
 },
 "nbformat": 4,
 "nbformat_minor": 2
}
