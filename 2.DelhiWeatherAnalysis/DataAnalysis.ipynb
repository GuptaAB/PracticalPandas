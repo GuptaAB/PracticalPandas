{
 "cells": [
  {
   "cell_type": "markdown",
   "metadata": {},
   "source": [
    "![](https://derrickmartins.files.wordpress.com/2015/11/time-series-analysis.png)\n",
    "\n",
    "# Time series analysis using Pandas\n",
    "\n",
    "https://www.kaggle.com/mahirkukreja/delhi-weather-data"
   ]
  },
  {
   "cell_type": "code",
   "execution_count": null,
   "metadata": {},
   "outputs": [],
   "source": [
    "import calendar\n",
    "import pandas as pd\n",
    "import matplotlib.pyplot as plt\n",
    "from random import random\n",
    "%matplotlib inline"
   ]
  },
  {
   "cell_type": "code",
   "execution_count": null,
   "metadata": {},
   "outputs": [],
   "source": [
    "df = pd.read_csv(\"data/dataset.csv\", parse_dates=['datetime_utc'], index_col='datetime_utc')"
   ]
  },
  {
   "cell_type": "markdown",
   "metadata": {},
   "source": [
    "### Clean data\n",
    "![](https://y1vwcp5chj-flywheel.netdna-ssl.com/wp-content/uploads/2016/10/blog-meme.jpg)"
   ]
  },
  {
   "cell_type": "code",
   "execution_count": null,
   "metadata": {},
   "outputs": [],
   "source": [
    "df.columns"
   ]
  },
  {
   "cell_type": "code",
   "execution_count": null,
   "metadata": {
    "scrolled": true
   },
   "outputs": [],
   "source": [
    "df.describe()"
   ]
  },
  {
   "cell_type": "code",
   "execution_count": null,
   "metadata": {},
   "outputs": [],
   "source": [
    "# rename columns\n",
    "new_cols = [x.replace(' _','') for x in df.columns]\n",
    "df.columns = new_cols"
   ]
  },
  {
   "cell_type": "code",
   "execution_count": null,
   "metadata": {},
   "outputs": [],
   "source": [
    "# remove field with all NaNs\n",
    "df = df.drop('precipm', axis=1)"
   ]
  },
  {
   "cell_type": "code",
   "execution_count": null,
   "metadata": {},
   "outputs": [],
   "source": [
    "# take care of wrong readings\n",
    "df['pressurem'] = df['pressurem'].apply(lambda x: df['pressurem'].mean() if not 800<x<1500 else x)\n",
    "df['hum'] = df['hum'].apply(lambda x: df['hum'].mean() if x>120 else x)\n",
    "df['vism'] = df['vism'].apply(lambda x: df['vism'].mean() if x>10 else x)\n",
    "df['wspdm'] = df['wspdm'].apply(lambda x: df['wspdm'].mean() if x>300 else x)\n",
    "df['tempm'] = df['tempm'].apply(lambda x: df['tempm'].mean() if x>50 else x)"
   ]
  },
  {
   "cell_type": "code",
   "execution_count": null,
   "metadata": {},
   "outputs": [],
   "source": [
    "# extra columns for time analysis\n",
    "df['hour'] = df.index.hour\n",
    "df['day'] = df.index.day\n",
    "df['month'] = df.index.month\n",
    "df['year'] = df.index.year"
   ]
  },
  {
   "cell_type": "markdown",
   "metadata": {},
   "source": [
    "### Quantitative plots over years/months/hours"
   ]
  },
  {
   "cell_type": "code",
   "execution_count": null,
   "metadata": {},
   "outputs": [],
   "source": [
    "# list of numeric columns\n",
    "cols = ['dewptm', 'fog', 'hail', 'heatindexm', 'hum', 'pressurem', 'rain', 'snow', 'tempm', 'thunder', 'tornado', \n",
    "        'vism', 'wdird', 'wgustm', 'windchillm', 'wspdm']"
   ]
  },
  {
   "cell_type": "code",
   "execution_count": null,
   "metadata": {},
   "outputs": [],
   "source": [
    "# quantitative plots\n",
    "fig, axes = plt.subplots(4, 4, figsize=(16, 16))\n",
    "\n",
    "for idx, col in enumerate(cols):\n",
    "    ax = axes[idx // 4, idx % 4]\n",
    "    ax.plot(df.groupby('month')[col].mean())\n",
    "    ax.set_title(col)\n",
    "\n",
    "fig.subplots_adjust(wspace=0.3, hspace=0.3)"
   ]
  },
  {
   "cell_type": "markdown",
   "metadata": {},
   "source": [
    "### Weather conditions trends per month\n",
    "![](https://i.pinimg.com/originals/19/a5/66/19a566d915debc41d7e303666b7ea10f.jpg)"
   ]
  },
  {
   "cell_type": "code",
   "execution_count": null,
   "metadata": {},
   "outputs": [],
   "source": [
    "month_wise_conds = df.groupby(['month', 'conds'])['month'].count()"
   ]
  },
  {
   "cell_type": "code",
   "execution_count": null,
   "metadata": {},
   "outputs": [],
   "source": [
    "month_wise_conds_df = month_wise_conds.unstack(level=1)"
   ]
  },
  {
   "cell_type": "code",
   "execution_count": null,
   "metadata": {},
   "outputs": [],
   "source": [
    "month_wise_conds_df"
   ]
  },
  {
   "cell_type": "code",
   "execution_count": null,
   "metadata": {},
   "outputs": [],
   "source": [
    "# color dict of weather conditions\n",
    "colordic = {}\n",
    "for idx, cond in enumerate(month_wise_conds_df.columns.values):\n",
    "    colordic[cond] = (random(), random(), random(), 1)"
   ]
  },
  {
   "cell_type": "code",
   "execution_count": null,
   "metadata": {},
   "outputs": [],
   "source": [
    "fig, axes = plt.subplots(4, 3, figsize=(15, 15))\n",
    "\n",
    "for i, (idx, row) in enumerate(month_wise_conds_df.iterrows()):\n",
    "    ax = axes[i // 3, i % 3]\n",
    "    # remove conditions with small percentage\n",
    "    row = row[row.gt(row.sum() * .03)]\n",
    "    # set color list for pie chart\n",
    "    colors = [colordic[val] for val in row.index]\n",
    "    ax.pie(row, labels=row.index, colors=colors)\n",
    "    ax.set_title(calendar.month_name[idx])\n",
    "\n",
    "fig.subplots_adjust(wspace=1.0, hspace=0.2)"
   ]
  },
  {
   "cell_type": "code",
   "execution_count": null,
   "metadata": {
    "scrolled": false
   },
   "outputs": [],
   "source": [
    "# what has been the weather like on this day for past 20 years?\n",
    "df.query(\"month == 8 and day == 1 and hour == 15\")['conds'].value_counts().plot.pie(figsize=(8, 8), autopct='%1.0f%%')"
   ]
  },
  {
   "cell_type": "code",
   "execution_count": null,
   "metadata": {},
   "outputs": [],
   "source": [
    "# month wise data over the years\n",
    "pv = pd.pivot_table(df.query(\"year%5 == 0\"), index=['month'], columns=['year'],\n",
    "                    values='vism', aggfunc='mean')"
   ]
  },
  {
   "cell_type": "code",
   "execution_count": null,
   "metadata": {},
   "outputs": [],
   "source": [
    "pv.plot()"
   ]
  },
  {
   "cell_type": "markdown",
   "metadata": {},
   "source": [
    "## Depressing, but true...\n",
    "![](https://s3.scoopwhoop.com/anj/sw/a1153a33-b90b-4fc2-a569-745a78b950e8.jpg)"
   ]
  }
 ],
 "metadata": {
  "kernelspec": {
   "display_name": "Python 3",
   "language": "python",
   "name": "python3"
  },
  "language_info": {
   "codemirror_mode": {
    "name": "ipython",
    "version": 3
   },
   "file_extension": ".py",
   "mimetype": "text/x-python",
   "name": "python",
   "nbconvert_exporter": "python",
   "pygments_lexer": "ipython3",
   "version": "3.6.5"
  }
 },
 "nbformat": 4,
 "nbformat_minor": 2
}
